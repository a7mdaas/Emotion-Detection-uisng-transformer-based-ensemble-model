{
 "cells": [
  {
   "cell_type": "markdown",
   "id": "49f6526e",
   "metadata": {},
   "source": [
    "# Data Augmentation\n",
    "\n",
    "#### MPA_ED@WASSA2022\n"
   ]
  },
  {
   "cell_type": "code",
   "execution_count": 2,
   "id": "b53cd563",
   "metadata": {},
   "outputs": [],
   "source": [
    "import pandas as pd\n",
    "import matplotlib.pyplot as plt\n",
    "import random"
   ]
  },
  {
   "cell_type": "code",
   "execution_count": 4,
   "id": "88692c6b",
   "metadata": {},
   "outputs": [],
   "source": [
    "df_ge = pd.read_csv(\"./dataset/goemotions_3.csv\") # GoEmotions Dataset \n",
    "df_ws = pd.read_csv(\"./dataset/messages_train_ready_for_WS.tsv\", sep = '\\t') # WASSA Dataset\n",
    "df_ws = df_ws[['emotion', 'essay']]"
   ]
  },
  {
   "cell_type": "code",
   "execution_count": 5,
   "id": "cc2e427c",
   "metadata": {},
   "outputs": [
    {
     "name": "stdout",
     "output_type": "stream",
     "text": [
      "(71225, 37)\n",
      "(1860, 2)\n"
     ]
    }
   ],
   "source": [
    "print(df_ge.shape)\n",
    "print(df_ws.shape)"
   ]
  },
  {
   "cell_type": "code",
   "execution_count": 6,
   "id": "0c23e34d",
   "metadata": {},
   "outputs": [
    {
     "name": "stdout",
     "output_type": "stream",
     "text": [
      "['joy', 'anger', 'neutral', 'disgust', 'surprise', 'fear', 'sadness']\n"
     ]
    }
   ],
   "source": [
    "unq_emotions = list(set(df_ws['emotion'].tolist())) # List of all 7 emotions\n",
    "print(unq_emotions)"
   ]
  },
  {
   "cell_type": "markdown",
   "id": "d1b1396b",
   "metadata": {},
   "source": [
    "### Function : Removes data points labeled with multiple emotions"
   ]
  },
  {
   "cell_type": "code",
   "execution_count": 7,
   "id": "03feeaaf",
   "metadata": {},
   "outputs": [],
   "source": [
    "def transform_ge(df):\n",
    "\n",
    "    new_texts = []\n",
    "    new_emotion = []\n",
    "    for i in range(len(df)):\n",
    "        for emo in unq_emotions:\n",
    "            if df[emo][i] == 1:\n",
    "                new_emotion.append(emo)\n",
    "                new_texts.append(df['text'][i])\n",
    "    clean_df = pd.DataFrame({'text': new_texts, 'emotion': new_emotion})\n",
    "    clean_df = clean_df.drop_duplicates(subset=['text'],ignore_index=True)\n",
    "    return clean_df"
   ]
  },
  {
   "cell_type": "code",
   "execution_count": 8,
   "id": "ce314a81",
   "metadata": {},
   "outputs": [],
   "source": [
    "clean_ge = transform_ge(df_ge)"
   ]
  },
  {
   "cell_type": "markdown",
   "id": "f4b05086",
   "metadata": {},
   "source": [
    "### Function: Converts DataFrame to dictionary {emotion : [text1, text2,....]}"
   ]
  },
  {
   "cell_type": "code",
   "execution_count": 9,
   "id": "49cfeaef",
   "metadata": {},
   "outputs": [],
   "source": [
    "def df2dict(df, unq_emotions):\n",
    "    tex_type = None\n",
    "    if 'text' in df:\n",
    "        tex_type = 'text'\n",
    "    else:\n",
    "        tex_type = 'essay'\n",
    "    data_dict = dict()\n",
    "    \n",
    "    for emo in unq_emotions:\n",
    "        data_dict[emo] = []\n",
    "    \n",
    "    for i in range(len(df)):\n",
    "        data_dict[df['emotion'][i]].append(df[tex_type][i])\n",
    "    \n",
    "    return data_dict"
   ]
  },
  {
   "cell_type": "code",
   "execution_count": 10,
   "id": "27f4b77e",
   "metadata": {},
   "outputs": [],
   "source": [
    "ge_dict = df2dict(clean_ge, unq_emotions)\n",
    "ws_dict = df2dict(df_ws, unq_emotions)"
   ]
  },
  {
   "cell_type": "code",
   "execution_count": 11,
   "id": "cfc9e71e",
   "metadata": {},
   "outputs": [],
   "source": [
    "ws_counts = dict(df_ws['emotion'].value_counts())\n",
    "ge_counts = dict(clean_ge['emotion'].value_counts())"
   ]
  },
  {
   "cell_type": "markdown",
   "id": "07d5167d",
   "metadata": {},
   "source": [
    "### Function: Systematic Sampling\n",
    ">Systematic sampling is a type of probability sampling method in which sample members from a larger population are selected according to a random starting point but with a fixed, periodic interval. This interval, called the sampling interval, is calculated by dividing the population size by the desired sample size."
   ]
  },
  {
   "cell_type": "code",
   "execution_count": 12,
   "id": "cd0cf650",
   "metadata": {},
   "outputs": [],
   "source": [
    "def sampler(data,new_size):\n",
    "    new_data = []\n",
    "    ind = len(data)/(new_size+1)\n",
    "    for i in range(1,new_size+1):\n",
    "        #print(ind*i)\n",
    "        new_data.append(data[int(ind*i)])\n",
    "    return new_data"
   ]
  },
  {
   "cell_type": "markdown",
   "id": "16af9dfd",
   "metadata": {},
   "source": [
    "### Function: Augmented Over-UnderSampling (AOUS)\n",
    "> If X denotes the number of\n",
    "data points per class, in this method, if\n",
    "the data points in a particular class are\n",
    "greater than X, we undersample the data by\n",
    "randomly removing the essays. Otherwise,\n",
    "the data is oversampled by simply adding\n",
    "Reddit comments with maximum lengths\n",
    "from GoEmotions dataset (sorted by lengths). As the average length of comments\n",
    "in GoEmotions dataset is 12 and average\n",
    "length of essays in WASSA dataset is 84, the\n",
    "comments with maximum length are chosen\n",
    "for oversampling.\n",
    "\n",
    "### Function: Augmented Over Sampling (AOS)\n",
    "> X denotes the highest number of data points per\n",
    "class. If the number of data points is less\n",
    "than X, the data is oversampled by adding\n",
    "comments from GoEmotions dataset with the\n",
    "highest lengths.\n",
    "![Image of AOS AOUS](https://docs.google.com/drawings/d/e/2PACX-1vSjuA0grkvkwVHC_70GvTGzEoSp_RTRqgNQHJO6YQFaLlZYjMbfKDUshrM2WLA8NQppUskovPy_i7nd/pub?w=1047&h=571)"
   ]
  },
  {
   "cell_type": "code",
   "execution_count": 13,
   "id": "ee032e95",
   "metadata": {},
   "outputs": [],
   "source": [
    "def AOUS(req_len, ws_dict, ge_dict, ws_counts, unq_emotions):\n",
    "    '''\n",
    "    req_len : number of labels per class after over under sampling\n",
    "    ws_dict : dictionary of WASSA Dataset {emotion : [text1, text2,....]}\n",
    "    ws_counts : Label counts per class in WASSA Dataset\n",
    "    ge_counts : Label counts per class in GoEmotion Dataset\n",
    "    \n",
    "    '''\n",
    "    new_essay = []\n",
    "    new_emotion = []\n",
    "    \n",
    "    ge_len_com = dict() # {emotion: [[lenght of comment_1, comment_1], [lenght of comment_2, comment_2]....]}\n",
    "    \n",
    "    for emo in unq_emotions:\n",
    "        ge_len_com[emo] = []\n",
    "\n",
    "    for emo in unq_emotions: \n",
    "        comments = ge_dict[emo]\n",
    "        for comment in comments:\n",
    "            ge_len_com[emo].append([len(comment.split()), comment])\n",
    "        ge_len_com[emo].sort()\n",
    "    \n",
    "    for emo in unq_emotions:\n",
    "        deficit = req_len - ws_counts[emo]\n",
    "        \n",
    "        if deficit <= 0: # if emotions per class are greater than required emotions\n",
    "            random.shuffle(ws_dict[emo])\n",
    "            new_essay += ws_dict[emo][:req_len]\n",
    "            new_emotion += [emo]*req_len\n",
    "            \n",
    "\n",
    "        else: # if emotions per class are less than required emotions\n",
    "            new_essay += ws_dict[emo]\n",
    "            new_emotion += [emo]*len(ws_dict[emo])\n",
    "            for i in range(deficit):\n",
    "                new_essay.append(ge_len_com[emo][-1][-1])\n",
    "                new_emotion.append(emo)\n",
    "                ge_len_com[emo].pop()\n",
    "                \n",
    "    return pd.DataFrame({'emotion':new_emotion, 'essay':new_essay})\n",
    "                    "
   ]
  },
  {
   "cell_type": "code",
   "execution_count": 14,
   "id": "868cfabe",
   "metadata": {},
   "outputs": [],
   "source": [
    "aous = AOUS(400, ws_dict, ge_dict, ws_counts, unq_emotions)"
   ]
  },
  {
   "cell_type": "code",
   "execution_count": 15,
   "id": "197ef192",
   "metadata": {},
   "outputs": [],
   "source": [
    "def AOS(ws_dict, ws_counts, ge_counts, unq_emotions):\n",
    "    '''\n",
    "    ws_dict : dictionary of WASSA Dataset {emotion : [text1, text2,....]}\n",
    "    ws_counts : Label counts per class in WASSA Dataset\n",
    "    ge_counts : Label counts per class in GoEmotion Dataset\n",
    "    \n",
    "    '''\n",
    "    req_len = max([ws_counts[k] for k in ws_counts])\n",
    "    new_essay = []\n",
    "    new_emotion = []\n",
    "    \n",
    "    ge_len_com = dict() # {emotion: [[lenght of comment_1, comment_1], [lenght of comment_2, comment_2]....]}\n",
    "    \n",
    "    for emo in unq_emotions:\n",
    "        ge_len_com[emo] = []\n",
    "\n",
    "    for emo in unq_emotions: \n",
    "        comments = ge_dict[emo]\n",
    "        for comment in comments:\n",
    "            ge_len_com[emo].append([len(comment.split()), comment])\n",
    "        ge_len_com[emo].sort()\n",
    "    \n",
    "    for emo in unq_emotions:\n",
    "        deficit = req_len - ws_counts[emo]\n",
    "        new_essay += ws_dict[emo]\n",
    "        new_emotion += [emo]*len(ws_dict[emo])\n",
    "        for i in range(deficit):\n",
    "            new_essay.append(ge_len_com[emo][-1][-1])\n",
    "            new_emotion.append(emo)\n",
    "            ge_len_com[emo].pop()\n",
    "\n",
    "    return pd.DataFrame({'emotion':new_emotion, 'essay':new_essay})\n",
    "                             "
   ]
  },
  {
   "cell_type": "code",
   "execution_count": 16,
   "id": "d45a916a",
   "metadata": {},
   "outputs": [],
   "source": [
    "aos = AOS(ws_dict, ws_counts, ge_counts, unq_emotions)"
   ]
  },
  {
   "cell_type": "markdown",
   "id": "9789aae6",
   "metadata": {},
   "source": [
    "### Function : Random synthetic oversampling\n",
    "> We observe a significant difference in the average comment length of GoEmotions dataset\n",
    "and the average essay length in the WASSA\n",
    "dataset. To avoid disturbing the length distribution of the WASSA dataset after oversampling, we create synthetic essays by concatenating multiple random comments with same\n",
    "emotion (Fig 4). We match the distribution of\n",
    "lengths of the synthetically generated essays\n",
    "from GoEmotions dataset with the distribution\n",
    "of the original dataset using “Systematic Sampling.” We eliminate the deficit in each class\n",
    "by adding synthetically generated essays.\n",
    "\n",
    "![Image of AOS AOUS](https://docs.google.com/drawings/d/e/2PACX-1vR-tZrrX7X8MZG6tjPMVdIkwoEZGhtD98TJccDZoQ20NEa75LzHd0Kz7gZHaRaKHQm-NswSW0FS85AU/pub?w=1192&h=779)\n"
   ]
  },
  {
   "cell_type": "code",
   "execution_count": 17,
   "id": "321fbe6f",
   "metadata": {},
   "outputs": [],
   "source": [
    "def RSO(unq_emotions,df_ws,ws_counts, ge_dict):\n",
    "    \n",
    "    essay_new = []\n",
    "    emotion_new = []\n",
    "    \n",
    "    essay_lengths = []\n",
    "    for i in range(len(df_ws)):\n",
    "        essay_lengths.append(len(df_ws['essay'][i].split()))\n",
    "    essay_lengths.sort()\n",
    "    \n",
    "    for emo in unq_emotions:\n",
    "        essay_new += ws_dict[emo]\n",
    "        emotion_new += [emo]*len(ws_dict[emo])\n",
    "        deficit = 647 - ws_counts[emo]\n",
    "#         if deficit < 0:\n",
    "#             under_samp_emo.append(emo)\n",
    "#             continue\n",
    "        req_lengths = sampler(essay_lengths, deficit)\n",
    "        for req_len in req_lengths:\n",
    "            essay = ''\n",
    "            word_ctr = 0\n",
    "            while word_ctr <= req_len:\n",
    "                n = random.randint(0,len(ge_dict[emo])-1)\n",
    "                essay += ge_dict[emo][n].strip() + ' '\n",
    "                word_ctr += len(ge_dict[emo][n].split())\n",
    "            essay_new.append(essay)\n",
    "            emotion_new.append(emo)\n",
    "    return pd.DataFrame({'emotion':emotion_new, 'essay':essay_new})"
   ]
  },
  {
   "cell_type": "code",
   "execution_count": 18,
   "id": "f669f99d",
   "metadata": {},
   "outputs": [],
   "source": [
    "rso = RSO(unq_emotions,df_ws,ws_counts, ge_dict)"
   ]
  },
  {
   "cell_type": "markdown",
   "id": "3b562332",
   "metadata": {},
   "source": [
    "### Function: Plot the length distributon of a dataset"
   ]
  },
  {
   "cell_type": "code",
   "execution_count": 19,
   "id": "d17554d4",
   "metadata": {},
   "outputs": [],
   "source": [
    "def plot_lengths(df, title):\n",
    "    text = 'essay'\n",
    "    labels = 'emotion'\n",
    "    lengths = []\n",
    "    for i in range(len(df)):\n",
    "        lengths.append(len(df['essay'][i].split()))\n",
    "    plt.hist(lengths, bins=8, edgecolor='black')\n",
    "    plt.xlabel('length')\n",
    "    plt.ylabel('Sentence counts')\n",
    "    plt.title(title)\n",
    "    plt.show()"
   ]
  },
  {
   "cell_type": "markdown",
   "id": "2964318c",
   "metadata": {},
   "source": [
    "### Length Disrtribution of orignal dataset"
   ]
  },
  {
   "cell_type": "code",
   "execution_count": 20,
   "id": "f63c9bdb",
   "metadata": {},
   "outputs": [
    {
     "data": {
      "image/png": "[encoded data removed]",
      "text/plain": [
       "<Figure size 640x480 with 1 Axes>"
      ]
     },
     "metadata": {},
     "output_type": "display_data"
    },
    {
     "data": {
      "image/png": "[encoded data removed]",
      "text/plain": [
       "<Figure size 640x480 with 1 Axes>"
      ]
     },
     "metadata": {},
     "output_type": "display_data"
    }
   ],
   "source": [
    "plot_lengths(df_ws, 'WASSA Dataset')\n",
    "plot_lengths(rso, 'RSO Dataset')"
   ]
  },
  {
   "cell_type": "code",
   "execution_count": 22,
   "id": "f92dfa06",
   "metadata": {},
   "outputs": [],
   "source": [
    "aos.to_csv('./dataset/AOS.csv', index = False)\n",
    "aous.to_csv('./dataset/AOUS.csv', index = False)\n",
    "rso.to_csv('./dataset/RSO.csv', index = False)"
   ]
  },
  {
   "cell_type": "code",
   "execution_count": null,
   "id": "32dd462c",
   "metadata": {},
   "outputs": [],
   "source": []
  }
 ],
 "metadata": {
  "kernelspec": {
   "display_name": "Python 3 (ipykernel)",
   "language": "python",
   "name": "python3"
  },
  "language_info": {
   "codemirror_mode": {
    "name": "ipython",
    "version": 3
   },
   "file_extension": ".py",
   "mimetype": "text/x-python",
   "name": "python",
   "nbconvert_exporter": "python",
   "pygments_lexer": "ipython3",
   "version": "3.9.7"
  }
 },
 "nbformat": 4,
 "nbformat_minor": 5
}
