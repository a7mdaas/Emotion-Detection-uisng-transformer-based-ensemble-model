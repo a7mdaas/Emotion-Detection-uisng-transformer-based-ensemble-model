{
 "cells": [
  {
   "cell_type": "code",
   "execution_count": 1,
   "id": "d1c4bbef",
   "metadata": {
    "tags": []
   },
   "outputs": [],
   "source": [
    "import pandas as pd\n",
    "import numpy as np\n",
    "from itertools import combinations\n",
    "from sklearn.metrics import f1_score\n",
    "from sklearn.metrics import accuracy_score"
   ]
  },
  {
   "cell_type": "markdown",
   "id": "261a41fd",
   "metadata": {},
   "source": [
    "### Test npys"
   ]
  },
  {
   "cell_type": "code",
   "execution_count": 2,
   "id": "97ea9b6e",
   "metadata": {
    "tags": []
   },
   "outputs": [],
   "source": [
    "path1 = \"./\"\n",
    "test_BERTBase_OUS_400 = np.load(path1 + 'test_BERTBase_0.npy')\n",
    "test_ElectraBase_Augmented_Data_4528_maxlen = np.load(path1 + 'test_ElectraBase_1.npy')\n",
    "test_ElectraBase_Augmented_Data_random_balanced_647 = np.load(path1 + 'test_ElectraBase_7.npy')\n",
    "test_ElectraBase_OUS_400 = np.load(path1 + 'test_ElectraBase_0.npy')\n",
    "test_ElectraBase_OUS_500 = np.load(path1 + 'test_BERTBase_7.npy')"
   ]
  },
  {
   "cell_type": "markdown",
   "id": "25ad9c5c",
   "metadata": {},
   "source": [
    "### Valid npys"
   ]
  },
  {
   "cell_type": "code",
   "execution_count": 3,
   "id": "9b4e1d8f",
   "metadata": {
    "tags": []
   },
   "outputs": [],
   "source": [
    "path2 = \"./\"\n",
    "val_BERTBase_OUS_400 = np.load(path2 + 'val_BERTBase_0.npy')\n",
    "val_ElectraBase_Augmented_Data_4528_maxlen = np.load(path2 + 'val_ElectraBase_1.npy')\n",
    "val_ElectraBase_Augmented_Data_random_balanced_647 = np.load(path2 + 'val_ElectraBase_7.npy')\n",
    "val_ElectraBase_OUS_400 = np.load(path2 + 'val_ElectraBase_0.npy')\n",
    "val_ElectraBase_OUS_500 = np.load(path2 + 'test_BERTBase_7.npy')"
   ]
  },
  {
   "cell_type": "markdown",
   "id": "eaee3246",
   "metadata": {},
   "source": [
    "### Functions to convert emotions to indices and indices to emotions"
   ]
  },
  {
   "cell_type": "code",
   "execution_count": 4,
   "id": "598ea7f4",
   "metadata": {
    "tags": []
   },
   "outputs": [],
   "source": [
    "e2i = {\n",
    "            \"anger\": 0,\n",
    "            \"disgust\": 1,\n",
    "            \"fear\": 2,\n",
    "            \"joy\": 3,\n",
    "            \"neutral\": 4,\n",
    "            \"sadness\": 5,\n",
    "            \"surprise\": 6\n",
    "        }\n",
    "i2e = {v: k for k, v in e2i.items()}\n",
    "\n",
    "def index_to_emotion(arr):\n",
    "    i2e = {0: 'anger', 1: 'disgust', 2: 'fear', 3: 'joy', 4: 'neutral', 5: 'sadness', 6: 'surprise'}\n",
    "    new_arr = []\n",
    "    for i in range(len(arr)):\n",
    "        new_arr.append(i2e[arr[i]])\n",
    "    return new_arr\n",
    "\n",
    "def emotion_to_index(arr):\n",
    "    e2i = {'anger': 0, 'disgust': 1, 'fear': 2, 'joy': 3, 'neutral': 4, 'sadness': 5, 'surprise': 6}\n",
    "    new_arr = []\n",
    "    for i in range(len(arr)):\n",
    "        new_arr.append(e2i[arr[i]])\n",
    "    return new_arr"
   ]
  },
  {
   "cell_type": "markdown",
   "id": "c03e7e84",
   "metadata": {},
   "source": [
    "### y_true "
   ]
  },
  {
   "cell_type": "code",
   "execution_count": 5,
   "id": "db0e2b10",
   "metadata": {
    "tags": []
   },
   "outputs": [],
   "source": [
    "y_true = pd.read_csv('dataset/messages_dev_features_ready_for_WS_2022.tsv', sep = '\\t')['emotion'].tolist()"
   ]
  },
  {
   "cell_type": "markdown",
   "id": "50fe5766",
   "metadata": {},
   "source": [
    "### Ensembling Function\n",
    "![Image of AOS AOUS](https://docs.google.com/drawings/d/e/2PACX-1vSjuA0grkvkwVHC_70GvTGzEoSp_RTRqgNQHJO6YQFaLlZYjMbfKDUshrM2WLA8NQppUskovPy_i7nd/pub?w=1047&h=571)"
   ]
  },
  {
   "cell_type": "code",
   "execution_count": 6,
   "id": "6437b575",
   "metadata": {
    "tags": []
   },
   "outputs": [],
   "source": [
    "def get_outputs(models, model_scores, model_weights, len_predict):\n",
    "    y_pred = [] \n",
    "    best_f1 = []\n",
    "    \n",
    "    for m in models:\n",
    "        best_f1.append((model_scores[m],m))\n",
    "    best_model = max(best_f1)[-1]  # Choosing model with highest f1 score (in case of clashes vote of this mode li prefered)\n",
    "    \n",
    "    for i in range(len_predict):\n",
    "            \n",
    "            a = [(models[model][i],model) for model in models]\n",
    "            d = dict() # contains weighted votes {label: vote_counts}\n",
    "            \n",
    "            for j in a:\n",
    "                if j[0] not in d:\n",
    "                    d[j[0]] = model_weights[j[1]]\n",
    "                else:\n",
    "                    d[j[0]] += model_weights[j[1]]\n",
    "            votes = [(d[k],k) for k in d]\n",
    "            votes.sort()\n",
    "            \n",
    "            if votes[-1][0] == 1: # choosing the label with max votes\n",
    "                y_pred.append(models[best_model][i])\n",
    "            \n",
    "            else: # if max votes = 1, choose the prediction of the best_model\n",
    "                y_pred.append(votes[-1][-1])\n",
    "\n",
    "    return y_pred"
   ]
  },
  {
   "cell_type": "markdown",
   "id": "abc1c3ad",
   "metadata": {},
   "source": [
    "### Models {name: npys}"
   ]
  },
  {
   "cell_type": "code",
   "execution_count": 7,
   "id": "cfaf595b",
   "metadata": {
    "tags": []
   },
   "outputs": [],
   "source": [
    "final_ensemble_models_val = {'val_BERTBase_OUS_400' : val_BERTBase_OUS_400,\n",
    "          'val_ElectraBase_Augmented_Data_4528_maxlen' : val_ElectraBase_Augmented_Data_4528_maxlen, \n",
    "          'val_ElectraBase_Augmented_Data_random_balanced_647' : val_ElectraBase_Augmented_Data_random_balanced_647, \n",
    "          'val_ElectraBase_OUS_400' : val_ElectraBase_OUS_400}\n",
    "\n",
    "final_ensemble_models_test = {'test_BERTBase_OUS_400' : test_BERTBase_OUS_400,\n",
    "          'test_ElectraBase_Augmented_Data_4528_maxlen' : test_ElectraBase_Augmented_Data_4528_maxlen, \n",
    "          'test_ElectraBase_Augmented_Data_random_balanced_647' : test_ElectraBase_Augmented_Data_random_balanced_647, \n",
    "          'test_ElectraBase_OUS_400' : test_ElectraBase_OUS_400}"
   ]
  },
  {
   "cell_type": "markdown",
   "id": "18b13b8b",
   "metadata": {},
   "source": [
    "### Model f1 scores {name: f1 score}"
   ]
  },
  {
   "cell_type": "code",
   "execution_count": 8,
   "id": "5f742e40",
   "metadata": {
    "tags": []
   },
   "outputs": [],
   "source": [
    "final_ensemble_scores_val = {\n",
    " 'val_BERTBase_OUS_400': 0.591857543223047,\n",
    " 'val_ElectraBase_Augmented_Data_4528_maxlen': 0.5894212727171738,\n",
    " 'val_ElectraBase_Augmented_Data_random_balanced_647': 0.5906288969076003,\n",
    " 'val_ElectraBase_OUS_400': 0.5967307817451174,\n",
    "}\n",
    "\n",
    "final_ensemble_scores_test = {\n",
    " 'test_BERTBase_OUS_400': 0.591857543223047,\n",
    " 'test_ElectraBase_Augmented_Data_4528_maxlen': 0.5894212727171738,\n",
    " 'test_ElectraBase_Augmented_Data_random_balanced_647': 0.5906288969076003,\n",
    " 'test_ElectraBase_OUS_400': 0.5967307817451174,\n",
    "}"
   ]
  },
  {
   "cell_type": "markdown",
   "id": "80195d5c",
   "metadata": {},
   "source": [
    "### Model weights {name: npys}"
   ]
  },
  {
   "cell_type": "code",
   "execution_count": 9,
   "id": "3b99b8dd",
   "metadata": {
    "tags": []
   },
   "outputs": [],
   "source": [
    "model_weights_val = {\n",
    " 'val_BERTBase_OUS_400': 1,\n",
    " 'val_ElectraBase_Augmented_Data_4528_maxlen': 1,\n",
    " 'val_ElectraBase_Augmented_Data_random_balanced_647': 1,\n",
    " 'val_ElectraBase_OUS_400': 1,\n",
    "}\n",
    "\n",
    "model_weights_test = {\n",
    " 'test_BERTBase_OUS_400': 1,\n",
    " 'test_ElectraBase_Augmented_Data_4528_maxlen': 1,\n",
    " 'test_ElectraBase_Augmented_Data_random_balanced_647': 1,\n",
    " 'test_ElectraBase_OUS_400': 1,\n",
    "}"
   ]
  },
  {
   "cell_type": "markdown",
   "id": "e5ddcedc",
   "metadata": {},
   "source": [
    "### Prediction on Validation dataset, calculation of f1 score"
   ]
  },
  {
   "cell_type": "code",
   "execution_count": 10,
   "id": "a6b8b37f",
   "metadata": {
    "tags": []
   },
   "outputs": [
    {
     "name": "stdout",
     "output_type": "stream",
     "text": [
      "0.48747757419993437\n"
     ]
    }
   ],
   "source": [
    "y_pred_val = get_outputs(final_ensemble_models_val, final_ensemble_scores_val, model_weights_val, len(y_true))\n",
    "print(f1_score(emotion_to_index(y_true), y_pred_val, average='macro'))"
   ]
  },
  {
   "cell_type": "code",
   "execution_count": 11,
   "id": "d4b5be19",
   "metadata": {
    "tags": []
   },
   "outputs": [],
   "source": [
    "model_outputs_dev = pd.read_csv(r'predictions_EMO.tsv', sep=\"\\t\").iloc[:271] #.to_dict()"
   ]
  },
  {
   "cell_type": "code",
   "execution_count": 12,
   "id": "79bbc6df",
   "metadata": {
    "tags": []
   },
   "outputs": [],
   "source": [
    "model_outputs_dev['Ensemble_w1_pred'] = index_to_emotion(y_pred_val)"
   ]
  },
  {
   "cell_type": "code",
   "execution_count": 13,
   "id": "41ad0e65",
   "metadata": {
    "tags": []
   },
   "outputs": [],
   "source": [
    "model_outputs_dev['Ensemble_w1_true'] = y_true"
   ]
  },
  {
   "cell_type": "code",
   "execution_count": 14,
   "id": "56650c14",
   "metadata": {
    "tags": []
   },
   "outputs": [],
   "source": [
    "# model_outputs_dev = model_outputs_dev[['essay', 'BERTBase_OUS_400_pred', 'BERTBase_OUS_400_true',\n",
    "#        'ElectraBase_Augmented_Data_4528_maxlen_pred',\n",
    "#        'ElectraBase_Augmented_Data_4528_maxlen_true',\n",
    "#        'ElectraBase_Augmented_Data_random_balanced_647_pred',\n",
    "#        'ElectraBase_Augmented_Data_random_balanced_647_true',\n",
    "#        'ElectraBase_OUS_400_pred', 'ElectraBase_OUS_400_true',\n",
    "#        'Ensemble_w1_true', 'Ensemble_w1_pred']]"
   ]
  },
  {
   "cell_type": "code",
   "execution_count": 15,
   "id": "02296766",
   "metadata": {},
   "outputs": [],
   "source": [
    "model_outputs_dev.to_csv(r'./dataset/model_outputs_dev.csv', index = False)"
   ]
  },
  {
   "cell_type": "markdown",
   "id": "2c798d87",
   "metadata": {},
   "source": [
    "### y_pred test"
   ]
  },
  {
   "cell_type": "code",
   "execution_count": 16,
   "id": "13fb3d6a",
   "metadata": {},
   "outputs": [],
   "source": [
    "y_pred_test = get_outputs(final_ensemble_models_test, final_ensemble_scores_test, model_weights_test, len(test_BERTBase_OUS_400))"
   ]
  },
  {
   "cell_type": "code",
   "execution_count": 17,
   "id": "31fa822c",
   "metadata": {},
   "outputs": [],
   "source": [
    "y_pred_emotions = index_to_emotion(y_pred_test)"
   ]
  },
  {
   "cell_type": "code",
   "execution_count": 18,
   "id": "c9f106d3",
   "metadata": {},
   "outputs": [],
   "source": [
    "pd.DataFrame(y_pred_emotions).to_csv('predictions_EMO.tsv', index = False, sep = '\\t', header = None)"
   ]
  },
  {
   "cell_type": "code",
   "execution_count": null,
   "id": "5a43a450",
   "metadata": {},
   "outputs": [],
   "source": []
  }
 ],
 "metadata": {
  "kernelspec": {
   "display_name": "Python 3 (ipykernel)",
   "language": "python",
   "name": "python3"
  },
  "language_info": {
   "codemirror_mode": {
    "name": "ipython",
    "version": 3
   },
   "file_extension": ".py",
   "mimetype": "text/x-python",
   "name": "python",
   "nbconvert_exporter": "python",
   "pygments_lexer": "ipython3",
   "version": "3.9.7"
  }
 },
 "nbformat": 4,
 "nbformat_minor": 5
}
